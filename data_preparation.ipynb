{
  "nbformat": 4,
  "nbformat_minor": 0,
  "metadata": {
    "colab": {
      "provenance": [],
      "authorship_tag": "ABX9TyOGQROm5mdTsue2EtxJvC+Z",
      "include_colab_link": true
    },
    "kernelspec": {
      "name": "python3",
      "display_name": "Python 3"
    },
    "language_info": {
      "name": "python"
    }
  },
  "cells": [
    {
      "cell_type": "markdown",
      "metadata": {
        "id": "view-in-github",
        "colab_type": "text"
      },
      "source": [
        "<a href=\"https://colab.research.google.com/github/Huzefah-tech/Latihan_Python/blob/main/data_preparation.ipynb\" target=\"_parent\"><img src=\"https://colab.research.google.com/assets/colab-badge.svg\" alt=\"Open In Colab\"/></a>"
      ]
    },
    {
      "cell_type": "code",
      "source": [
        "import pandas as pd\n",
        "import numpy as np\n",
        "from sklearn.preprocessing import MinMaxScaler, KBinsDiscretizer\n",
        "\n",
        "np.random.seed(42)\n",
        "\n",
        "data1 = {\n",
        "    'ID' : range(1, 21),\n",
        "    'Usia': np.random.randint(20, 50, 20).astype(float), #Float agar bisa NaN\n",
        "    'Gaji': np.random.randint(3000, 10000, 20).astype(float),\n",
        "    'Pengalaman': np.random.randint(1, 15, 20).astype(float)\n",
        "}\n",
        "\n",
        "df1 = pd.DataFrame(data1)\n",
        "\n",
        "df1.loc[5, 'Usia'] = np.nan\n",
        "df1.loc[5, 'Gaji'] = np.nan\n",
        "df1.loc[5, 'Pengalaman'] = np.nan\n",
        "\n",
        "#Tambahkan duplicate rows\n",
        "df1 = pd.concat([df1, df1.iloc[[2,5]]], ignore_index=True)\n",
        "\n",
        "print(\"=== Data 1 ===\")\n",
        "print(df1)"
      ],
      "metadata": {
        "colab": {
          "base_uri": "https://localhost:8080/"
        },
        "id": "gqwn7369T7Bj",
        "outputId": "2a1c010e-abfa-4026-f755-6337317e1a33"
      },
      "execution_count": 27,
      "outputs": [
        {
          "output_type": "stream",
          "name": "stdout",
          "text": [
            "=== Data 1 ===\n",
            "    ID  Usia    Gaji  Pengalaman\n",
            "0    1  26.0  4685.0        12.0\n",
            "1    2  39.0  3769.0        12.0\n",
            "2    3  48.0  5391.0        14.0\n",
            "3    4  34.0  8611.0        14.0\n",
            "4    5  30.0  9949.0        14.0\n",
            "5    6   NaN     NaN         NaN\n",
            "6    7  48.0  8311.0        12.0\n",
            "7    8  40.0  8051.0         7.0\n",
            "8    9  26.0  9420.0         4.0\n",
            "9   10  45.0  4184.0         9.0\n",
            "10  11  38.0  7555.0         3.0\n",
            "11  12  42.0  6385.0         5.0\n",
            "12  13  30.0  7117.0         3.0\n",
            "13  14  30.0  9396.0         7.0\n",
            "14  15  43.0  7843.0         5.0\n",
            "15  16  40.0  5904.0         9.0\n",
            "16  17  23.0  3474.0         7.0\n",
            "17  18  27.0  4082.0         2.0\n",
            "18  19  43.0  5558.0         4.0\n",
            "19  20  22.0  5047.0         9.0\n",
            "20   3  48.0  5391.0        14.0\n",
            "21   6   NaN     NaN         NaN\n"
          ]
        }
      ]
    },
    {
      "cell_type": "code",
      "source": [
        "#Dataset kedua untuk integrasi\n",
        "data2 = {\n",
        "    'ID': range(5, 25), #Overlap sebagian dengan Data1\n",
        "    'Dept': np.random.choice(['IT', 'HR', 'Finance', 'Marketing'], 20)\n",
        "}\n",
        "df2 = pd.DataFrame(data2)\n",
        "\n",
        "print(\"\\n=== Data 2 ===\")\n",
        "print(df2.head())"
      ],
      "metadata": {
        "colab": {
          "base_uri": "https://localhost:8080/"
        },
        "id": "mBqExO8kX96Z",
        "outputId": "84353ca1-98d7-40e3-826e-1105f3be2c81"
      },
      "execution_count": 8,
      "outputs": [
        {
          "output_type": "stream",
          "name": "stdout",
          "text": [
            "=== Data 1 ===\n",
            "    ID  Usia    Gaji  Pengalaman\n",
            "0    1  26.0  4685.0        12.0\n",
            "1    2  39.0  3769.0        12.0\n",
            "2    3  48.0  5391.0        14.0\n",
            "3    4  34.0  8611.0        14.0\n",
            "4    5  30.0  9949.0        14.0\n",
            "5    6   NaN     NaN         NaN\n",
            "6    7  48.0  8311.0        12.0\n",
            "7    8  40.0  8051.0         7.0\n",
            "8    9  26.0  9420.0         4.0\n",
            "9   10  45.0  4184.0         9.0\n",
            "10  11  38.0  7555.0         3.0\n",
            "11  12  42.0  6385.0         5.0\n",
            "12  13  30.0  7117.0         3.0\n",
            "13  14  30.0  9396.0         7.0\n",
            "14  15  43.0  7843.0         5.0\n",
            "15  16  40.0  5904.0         9.0\n",
            "16  17  23.0  3474.0         7.0\n",
            "17  18  27.0  4082.0         2.0\n",
            "18  19  43.0  5558.0         4.0\n",
            "19  20  22.0  5047.0         9.0\n",
            "20   3  48.0  5391.0        14.0\n",
            "21   6   NaN     NaN         NaN\n",
            "22   3  48.0  5391.0        14.0\n",
            "23   6   NaN     NaN         NaN\n",
            "\n",
            "=== Data 2 ===\n",
            "   ID       Dept\n",
            "0   5  Marketing\n",
            "1   6         HR\n",
            "2   7         HR\n",
            "3   8         HR\n",
            "4   9         IT\n"
          ]
        }
      ]
    },
    {
      "cell_type": "code",
      "source": [
        "#CEK MISSING & DUPLICATE DATA\n",
        "\n",
        "print(\"\\n=== DATA 1 (df1) ===\")\n",
        "#1. cek missing values per kolom\n",
        "print(\"\\n=== Cek Missing Values ===\")\n",
        "print(df1.isnull().sum())\n",
        "\n",
        "# 2. Cek jumlah total missing values\n",
        "print(\"\\n=== Cek Total Missing Values :\", df1.isnull().sum().sum())\n",
        "\n",
        "# 3. Tampilkan baris yang missing values (jika ada)\n",
        "print(\"\\n=== Baris yang Mengandung Missing Values ===\")\n",
        "missing_rows = df1[df1.isnull().any(axis=1)]\n",
        "print(missing_rows)\n",
        "\n",
        "print(\"\\n=== DATA 2 (df2) ===\")\n",
        "\n",
        "\n",
        "# 4. Cek missing values per kolom\n",
        "print(\"\\n=== Cek Missing Values :\")\n",
        "print(df2.isnull().sum())\n",
        "\n",
        "# 5. Cek jumlah total missing values\n",
        "print(\"\\n=== Cek Total Missing Values :\", df2.isnull().sum().sum())\n",
        "\n",
        "# 6. Tampilkan baris yang missing values (jika ada)\n",
        "print(\"\\n Baris yang Mengandung Missing Values :\")\n",
        "missing_rows = df2[df2.isnull().any(axis=1)]\n",
        "print(missing_rows)"
      ],
      "metadata": {
        "colab": {
          "base_uri": "https://localhost:8080/"
        },
        "id": "X6EQ0fElZQzs",
        "outputId": "3ec757d9-4ad7-43a0-fa78-eaae89d2a029"
      },
      "execution_count": 12,
      "outputs": [
        {
          "output_type": "stream",
          "name": "stdout",
          "text": [
            "\n",
            "=== DATA 1 (df1) ===\n",
            "\n",
            "=== Cek Missing Values ===\n",
            "ID            0\n",
            "Usia          3\n",
            "Gaji          3\n",
            "Pengalaman    3\n",
            "dtype: int64\n",
            "\n",
            "=== Cek Total Missing Values : 9\n",
            "\n",
            "=== Baris yang Mengandung Missing Values ===\n",
            "    ID  Usia  Gaji  Pengalaman\n",
            "5    6   NaN   NaN         NaN\n",
            "21   6   NaN   NaN         NaN\n",
            "23   6   NaN   NaN         NaN\n",
            "\n",
            "=== DATA 2 (df2) ===\n",
            "\n",
            "=== Cek Missing Values :\n",
            "ID      0\n",
            "Dept    0\n",
            "dtype: int64\n",
            "\n",
            "=== Cek Total Missing Values : 0\n",
            "\n",
            " Baris yang Mengandung Missing Values :\n",
            "Empty DataFrame\n",
            "Columns: [ID, Dept]\n",
            "Index: []\n"
          ]
        }
      ]
    },
    {
      "cell_type": "code",
      "source": [
        "# CEK DUPLICATE DATA (Data1)\n",
        "\n",
        "print(\"\\n=== DATA 1 (df1) ===\")\n",
        "\n",
        "# 1. Cek duplicate data (boolean per baris)\n",
        "print(\"\\n=== Cek Duplicate Data (boolean):\")\n",
        "print(df1.duplicated())\n",
        "\n",
        "# 2. Hitung jumlah baris duplikat\n",
        "print(\"\\n=== Jumlah baris duplikat :\", df1.duplicated().sum())\n",
        "\n",
        "# 3. Tampilkan baris duplikat (jika ada)\\\n",
        "print(\"\\n=== Baris duplikat :\")\n",
        "print(df1[df1.duplicated()])"
      ],
      "metadata": {
        "colab": {
          "base_uri": "https://localhost:8080/"
        },
        "id": "s_3oS5XfbRSS",
        "outputId": "9002a754-89ab-4e78-a457-f538fd39c768"
      },
      "execution_count": 13,
      "outputs": [
        {
          "output_type": "stream",
          "name": "stdout",
          "text": [
            "\n",
            "=== DATA 1 (df1) ===\n",
            "\n",
            "=== Cek Duplicate Data (boolean):\n",
            "0     False\n",
            "1     False\n",
            "2     False\n",
            "3     False\n",
            "4     False\n",
            "5     False\n",
            "6     False\n",
            "7     False\n",
            "8     False\n",
            "9     False\n",
            "10    False\n",
            "11    False\n",
            "12    False\n",
            "13    False\n",
            "14    False\n",
            "15    False\n",
            "16    False\n",
            "17    False\n",
            "18    False\n",
            "19    False\n",
            "20     True\n",
            "21     True\n",
            "22     True\n",
            "23     True\n",
            "dtype: bool\n",
            "\n",
            "=== Jumlah baris duplikat : 4\n",
            "\n",
            "=== Baris duplikat :\n",
            "    ID  Usia    Gaji  Pengalaman\n",
            "20   3  48.0  5391.0        14.0\n",
            "21   6   NaN     NaN         NaN\n",
            "22   3  48.0  5391.0        14.0\n",
            "23   6   NaN     NaN         NaN\n"
          ]
        }
      ]
    },
    {
      "cell_type": "code",
      "source": [
        "# CEK DUPLICATE DATA (Data 2)\n",
        "print(\"\\n=== DATA 2 (df2) ===\")\n",
        "\n",
        "# 1. Cek duplicate data (boolean per baris)\n",
        "print(\"\\n Cek duplicate Data (boolean): \")\n",
        "print(\"df2.duplicated()\")\n",
        "\n",
        "# 2. Hitung jumlah baris duplikat\n",
        "print(\"\\n Jumlah baris duplikat: \")\n",
        "print(\"df2.duplicated().sum()\")\n",
        "\n",
        "# 3. Tampilkan baris duplikat (jika ada)\n",
        "print(\"\\n Baris duplikat: \")\n",
        "print(\"df2[df2.duplicated()]\")\n"
      ],
      "metadata": {
        "colab": {
          "base_uri": "https://localhost:8080/"
        },
        "id": "HsL0eZE5cDcy",
        "outputId": "1e4febf1-3a9a-4732-b7b4-0b89403cfb7e"
      },
      "execution_count": 14,
      "outputs": [
        {
          "output_type": "stream",
          "name": "stdout",
          "text": [
            "\n",
            "=== DATA 2 (df2) ===\n",
            "\n",
            " Cek duplicate Data (boolean): \n",
            "df2.duplicated()\n",
            "\n",
            " Jumlah baris duplikat: \n",
            "df2.duplicated().sum()\n",
            "\n",
            " Baris duplikat: \n",
            "df2[df2.duplicated()]\n"
          ]
        }
      ]
    },
    {
      "cell_type": "code",
      "source": [
        "# PEMBERSIHAN MISSING DATA\n",
        "\n",
        "print(\"\\n=== Data 1 sebelum pembersihan missing ===\")\n",
        "print(df1)\n",
        "print(\"\\n Total Missing Values: \", df1.isnull(). sum().sum())\n",
        "\n",
        "# Bersihkan missing dengan dropna (hapus baris yang ada NaN)\n",
        "df1_clean = df1.dropna()\n",
        "print(\"\\n=== Data 1 setelah pembersihan missing ===\")\n",
        "print(df1_clean)\n",
        "print(\"\\n Total Missing Values: \", df1_clean.isnull(). sum().sum())"
      ],
      "metadata": {
        "colab": {
          "base_uri": "https://localhost:8080/"
        },
        "id": "jCM5Yxkac2wc",
        "outputId": "7594a539-a6ab-428e-c062-240158eebfdb"
      },
      "execution_count": 15,
      "outputs": [
        {
          "output_type": "stream",
          "name": "stdout",
          "text": [
            "\n",
            "=== Data 1 sebelum pembersihan missing ===\n",
            "    ID  Usia    Gaji  Pengalaman\n",
            "0    1  26.0  4685.0        12.0\n",
            "1    2  39.0  3769.0        12.0\n",
            "2    3  48.0  5391.0        14.0\n",
            "3    4  34.0  8611.0        14.0\n",
            "4    5  30.0  9949.0        14.0\n",
            "5    6   NaN     NaN         NaN\n",
            "6    7  48.0  8311.0        12.0\n",
            "7    8  40.0  8051.0         7.0\n",
            "8    9  26.0  9420.0         4.0\n",
            "9   10  45.0  4184.0         9.0\n",
            "10  11  38.0  7555.0         3.0\n",
            "11  12  42.0  6385.0         5.0\n",
            "12  13  30.0  7117.0         3.0\n",
            "13  14  30.0  9396.0         7.0\n",
            "14  15  43.0  7843.0         5.0\n",
            "15  16  40.0  5904.0         9.0\n",
            "16  17  23.0  3474.0         7.0\n",
            "17  18  27.0  4082.0         2.0\n",
            "18  19  43.0  5558.0         4.0\n",
            "19  20  22.0  5047.0         9.0\n",
            "20   3  48.0  5391.0        14.0\n",
            "21   6   NaN     NaN         NaN\n",
            "22   3  48.0  5391.0        14.0\n",
            "23   6   NaN     NaN         NaN\n",
            "\n",
            " Total Missing Values:  9\n",
            "\n",
            "=== Data 1 setelah pembersihan missing ===\n",
            "    ID  Usia    Gaji  Pengalaman\n",
            "0    1  26.0  4685.0        12.0\n",
            "1    2  39.0  3769.0        12.0\n",
            "2    3  48.0  5391.0        14.0\n",
            "3    4  34.0  8611.0        14.0\n",
            "4    5  30.0  9949.0        14.0\n",
            "6    7  48.0  8311.0        12.0\n",
            "7    8  40.0  8051.0         7.0\n",
            "8    9  26.0  9420.0         4.0\n",
            "9   10  45.0  4184.0         9.0\n",
            "10  11  38.0  7555.0         3.0\n",
            "11  12  42.0  6385.0         5.0\n",
            "12  13  30.0  7117.0         3.0\n",
            "13  14  30.0  9396.0         7.0\n",
            "14  15  43.0  7843.0         5.0\n",
            "15  16  40.0  5904.0         9.0\n",
            "16  17  23.0  3474.0         7.0\n",
            "17  18  27.0  4082.0         2.0\n",
            "18  19  43.0  5558.0         4.0\n",
            "19  20  22.0  5047.0         9.0\n",
            "20   3  48.0  5391.0        14.0\n",
            "22   3  48.0  5391.0        14.0\n",
            "\n",
            " Total Missing Values:  0\n"
          ]
        }
      ]
    },
    {
      "cell_type": "code",
      "source": [
        "# PENANGAN DUPLICATE DATA (df1)\n",
        "\n",
        "print(\"\\n=== Data 1 sebelum pembersihan duplicate ===\")\n",
        "print(df1_clean)\n",
        "print(\"\\n Jumlah baris duplikat sebelum dibersihkan: \", df1_clean.duplicated().sum())\n",
        "\n",
        "# Hapus baris duplikat\n",
        "df1_final = df1_clean.drop_duplicates()\n",
        "print(\"\\n=== Data 1 setelah pembersihan duplicate ===\")\n",
        "print(df1_final)\n",
        "print(\"\\n Jumlah baris duplikat setelah dibersihkan: \", df1_final.duplicated().sum())"
      ],
      "metadata": {
        "colab": {
          "base_uri": "https://localhost:8080/"
        },
        "id": "j1F2yZfLdXt-",
        "outputId": "8f01c413-6d53-43ca-a0e1-9e07dff6db92"
      },
      "execution_count": 16,
      "outputs": [
        {
          "output_type": "stream",
          "name": "stdout",
          "text": [
            "\n",
            "=== Data 1 sebelum pembersihan duplicate ===\n",
            "    ID  Usia    Gaji  Pengalaman\n",
            "0    1  26.0  4685.0        12.0\n",
            "1    2  39.0  3769.0        12.0\n",
            "2    3  48.0  5391.0        14.0\n",
            "3    4  34.0  8611.0        14.0\n",
            "4    5  30.0  9949.0        14.0\n",
            "6    7  48.0  8311.0        12.0\n",
            "7    8  40.0  8051.0         7.0\n",
            "8    9  26.0  9420.0         4.0\n",
            "9   10  45.0  4184.0         9.0\n",
            "10  11  38.0  7555.0         3.0\n",
            "11  12  42.0  6385.0         5.0\n",
            "12  13  30.0  7117.0         3.0\n",
            "13  14  30.0  9396.0         7.0\n",
            "14  15  43.0  7843.0         5.0\n",
            "15  16  40.0  5904.0         9.0\n",
            "16  17  23.0  3474.0         7.0\n",
            "17  18  27.0  4082.0         2.0\n",
            "18  19  43.0  5558.0         4.0\n",
            "19  20  22.0  5047.0         9.0\n",
            "20   3  48.0  5391.0        14.0\n",
            "22   3  48.0  5391.0        14.0\n",
            "\n",
            " Jumlah baris duplikat sebelum dibersihkan:  2\n",
            "\n",
            "=== Data 1 setelah pembersihan duplicate ===\n",
            "    ID  Usia    Gaji  Pengalaman\n",
            "0    1  26.0  4685.0        12.0\n",
            "1    2  39.0  3769.0        12.0\n",
            "2    3  48.0  5391.0        14.0\n",
            "3    4  34.0  8611.0        14.0\n",
            "4    5  30.0  9949.0        14.0\n",
            "6    7  48.0  8311.0        12.0\n",
            "7    8  40.0  8051.0         7.0\n",
            "8    9  26.0  9420.0         4.0\n",
            "9   10  45.0  4184.0         9.0\n",
            "10  11  38.0  7555.0         3.0\n",
            "11  12  42.0  6385.0         5.0\n",
            "12  13  30.0  7117.0         3.0\n",
            "13  14  30.0  9396.0         7.0\n",
            "14  15  43.0  7843.0         5.0\n",
            "15  16  40.0  5904.0         9.0\n",
            "16  17  23.0  3474.0         7.0\n",
            "17  18  27.0  4082.0         2.0\n",
            "18  19  43.0  5558.0         4.0\n",
            "19  20  22.0  5047.0         9.0\n",
            "\n",
            " Jumlah baris duplikat setelah dibersihkan:  0\n"
          ]
        }
      ]
    },
    {
      "cell_type": "code",
      "source": [
        "# INTEGRASI DATA (df1_final & df2)\n",
        "\n",
        "print(\"\\n=== Data 1 Final (bersih) ===\")\n",
        "print(df1_final)\n",
        "\n",
        "print(\"\\n=== Data 2 (df2) ===\")\n",
        "print(df2)"
      ],
      "metadata": {
        "colab": {
          "base_uri": "https://localhost:8080/"
        },
        "id": "06oVMU0-d3TM",
        "outputId": "389e82ca-fac3-401c-a4f5-fd91d41351bb"
      },
      "execution_count": 17,
      "outputs": [
        {
          "output_type": "stream",
          "name": "stdout",
          "text": [
            "\n",
            "=== Data 1 Final (bersih) ===\n",
            "    ID  Usia    Gaji  Pengalaman\n",
            "0    1  26.0  4685.0        12.0\n",
            "1    2  39.0  3769.0        12.0\n",
            "2    3  48.0  5391.0        14.0\n",
            "3    4  34.0  8611.0        14.0\n",
            "4    5  30.0  9949.0        14.0\n",
            "6    7  48.0  8311.0        12.0\n",
            "7    8  40.0  8051.0         7.0\n",
            "8    9  26.0  9420.0         4.0\n",
            "9   10  45.0  4184.0         9.0\n",
            "10  11  38.0  7555.0         3.0\n",
            "11  12  42.0  6385.0         5.0\n",
            "12  13  30.0  7117.0         3.0\n",
            "13  14  30.0  9396.0         7.0\n",
            "14  15  43.0  7843.0         5.0\n",
            "15  16  40.0  5904.0         9.0\n",
            "16  17  23.0  3474.0         7.0\n",
            "17  18  27.0  4082.0         2.0\n",
            "18  19  43.0  5558.0         4.0\n",
            "19  20  22.0  5047.0         9.0\n",
            "\n",
            "=== Data 2 (df2) ===\n",
            "    ID       Dept\n",
            "0    5  Marketing\n",
            "1    6         HR\n",
            "2    7         HR\n",
            "3    8         HR\n",
            "4    9         IT\n",
            "5   10         HR\n",
            "6   11         IT\n",
            "7   12         HR\n",
            "8   13  Marketing\n",
            "9   14  Marketing\n",
            "10  15    Finance\n",
            "11  16  Marketing\n",
            "12  17    Finance\n",
            "13  18  Marketing\n",
            "14  19         IT\n",
            "15  20  Marketing\n",
            "16  21    Finance\n",
            "17  22    Finance\n",
            "18  23         HR\n",
            "19  24         IT\n"
          ]
        }
      ]
    },
    {
      "cell_type": "code",
      "source": [
        "# Integrasi dengan join berdasarkan kolom 'ID'\n",
        "df_integrated = pd.merge(df1_final, df2, on='ID', how='inner')\n",
        "\n",
        "print(\"\\n=== Hasil Integrasi Data (Inner Join berdasarkan ID) ===\")\n",
        "print(df_integrated)"
      ],
      "metadata": {
        "colab": {
          "base_uri": "https://localhost:8080/"
        },
        "id": "O4NFPC4MeSi3",
        "outputId": "b6b5fdf6-74a8-42cf-f2a4-2c423de358d7"
      },
      "execution_count": 18,
      "outputs": [
        {
          "output_type": "stream",
          "name": "stdout",
          "text": [
            "\n",
            "=== Hasil Integrasi Data (Inner Join berdasarkan ID) ===\n",
            "    ID  Usia    Gaji  Pengalaman       Dept\n",
            "0    5  30.0  9949.0        14.0  Marketing\n",
            "1    7  48.0  8311.0        12.0         HR\n",
            "2    8  40.0  8051.0         7.0         HR\n",
            "3    9  26.0  9420.0         4.0         IT\n",
            "4   10  45.0  4184.0         9.0         HR\n",
            "5   11  38.0  7555.0         3.0         IT\n",
            "6   12  42.0  6385.0         5.0         HR\n",
            "7   13  30.0  7117.0         3.0  Marketing\n",
            "8   14  30.0  9396.0         7.0  Marketing\n",
            "9   15  43.0  7843.0         5.0    Finance\n",
            "10  16  40.0  5904.0         9.0  Marketing\n",
            "11  17  23.0  3474.0         7.0    Finance\n",
            "12  18  27.0  4082.0         2.0  Marketing\n",
            "13  19  43.0  5558.0         4.0         IT\n",
            "14  20  22.0  5047.0         9.0  Marketing\n"
          ]
        }
      ]
    },
    {
      "cell_type": "code",
      "source": [
        "# Jika ingin integrasi lengkap (semua data, meski tidak cocok ID)\n",
        "df_full = pd.merge(df1_final, df2, on='ID', how='outer')\n",
        "\n",
        "print(\"\\n=== Hasil Integrasi Data (Outer Join berdasarkan ID) ===\")\n",
        "print(df_full)"
      ],
      "metadata": {
        "colab": {
          "base_uri": "https://localhost:8080/"
        },
        "id": "yTAHrFeseqUo",
        "outputId": "4ebf3bea-0484-46a4-a76a-2d0411ba9d69"
      },
      "execution_count": 19,
      "outputs": [
        {
          "output_type": "stream",
          "name": "stdout",
          "text": [
            "\n",
            "=== Hasil Integrasi Data (Outer Join berdasarkan ID) ===\n",
            "    ID  Usia    Gaji  Pengalaman       Dept\n",
            "0    1  26.0  4685.0        12.0        NaN\n",
            "1    2  39.0  3769.0        12.0        NaN\n",
            "2    3  48.0  5391.0        14.0        NaN\n",
            "3    4  34.0  8611.0        14.0        NaN\n",
            "4    5  30.0  9949.0        14.0  Marketing\n",
            "5    6   NaN     NaN         NaN         HR\n",
            "6    7  48.0  8311.0        12.0         HR\n",
            "7    8  40.0  8051.0         7.0         HR\n",
            "8    9  26.0  9420.0         4.0         IT\n",
            "9   10  45.0  4184.0         9.0         HR\n",
            "10  11  38.0  7555.0         3.0         IT\n",
            "11  12  42.0  6385.0         5.0         HR\n",
            "12  13  30.0  7117.0         3.0  Marketing\n",
            "13  14  30.0  9396.0         7.0  Marketing\n",
            "14  15  43.0  7843.0         5.0    Finance\n",
            "15  16  40.0  5904.0         9.0  Marketing\n",
            "16  17  23.0  3474.0         7.0    Finance\n",
            "17  18  27.0  4082.0         2.0  Marketing\n",
            "18  19  43.0  5558.0         4.0         IT\n",
            "19  20  22.0  5047.0         9.0  Marketing\n",
            "20  21   NaN     NaN         NaN    Finance\n",
            "21  22   NaN     NaN         NaN    Finance\n",
            "22  23   NaN     NaN         NaN         HR\n",
            "23  24   NaN     NaN         NaN         IT\n"
          ]
        }
      ]
    },
    {
      "cell_type": "code",
      "source": [
        "# CEK KEBUTUHAN TRANSFORMASI\n",
        "\n",
        "print(\"\\n=== Hasil Integrasi Data (df_integrated) ===\")\n",
        "print(df_integrated.head())\n",
        "\n",
        "# 1. Info tipe data\n",
        "print(\"\\n=== Info Tipe Data ===\")\n",
        "print(df_integrated.dtypes)\n",
        "\n",
        "# 2. Cek missing values\n",
        "print(\"\\n=== Cek Missing Values ===\")\n",
        "print(df_integrated.isnull().sum())\n",
        "\n",
        "# 3. Cek distribusi numerik (apakah perlu normalisasi/standarisasi)\n",
        "print(\"\\n=== Statistik Deskriptif Kolom Numerik ===\")\n",
        "print(df_integrated.describe())"
      ],
      "metadata": {
        "colab": {
          "base_uri": "https://localhost:8080/"
        },
        "id": "eVRn5AC2fGmp",
        "outputId": "c3bea0d2-2bad-40ee-e561-b4b84befb1a6"
      },
      "execution_count": 20,
      "outputs": [
        {
          "output_type": "stream",
          "name": "stdout",
          "text": [
            "\n",
            "=== Hasil Integrasi Data (df_integrated) ===\n",
            "   ID  Usia    Gaji  Pengalaman       Dept\n",
            "0   5  30.0  9949.0        14.0  Marketing\n",
            "1   7  48.0  8311.0        12.0         HR\n",
            "2   8  40.0  8051.0         7.0         HR\n",
            "3   9  26.0  9420.0         4.0         IT\n",
            "4  10  45.0  4184.0         9.0         HR\n",
            "\n",
            "=== Info Tipe Data ===\n",
            "ID              int64\n",
            "Usia          float64\n",
            "Gaji          float64\n",
            "Pengalaman    float64\n",
            "Dept           object\n",
            "dtype: object\n",
            "\n",
            "=== Cek Missing Values ===\n",
            "ID            0\n",
            "Usia          0\n",
            "Gaji          0\n",
            "Pengalaman    0\n",
            "Dept          0\n",
            "dtype: int64\n",
            "\n",
            "=== Statistik Deskriptif Kolom Numerik ===\n",
            "              ID       Usia         Gaji  Pengalaman\n",
            "count  15.000000  15.000000    15.000000   15.000000\n",
            "mean   12.933333  35.133333  6818.400000    6.666667\n",
            "std     4.589844   8.609519  2070.284549    3.457222\n",
            "min     5.000000  22.000000  3474.000000    2.000000\n",
            "25%     9.500000  28.500000  5302.500000    4.000000\n",
            "50%    13.000000  38.000000  7117.000000    7.000000\n",
            "75%    16.500000  42.500000  8181.000000    9.000000\n",
            "max    20.000000  48.000000  9949.000000   14.000000\n"
          ]
        }
      ]
    },
    {
      "cell_type": "code",
      "source": [
        "# TRANSFORMASI DATA\n",
        "\n",
        "from sklearn.preprocessing import StandardScaler, LabelEncoder\n",
        "\n",
        "df_transformed = df_integrated.copy()\n",
        "\n",
        "# A. Encoding kolom kategorikal (contoh: 'Dept')\n",
        "if df_transformed['Dept'].dtype == 'object':\n",
        "    le = LabelEncoder()\n",
        "    df_transformed['Dept'] = le.fit_transform(df_transformed['Dept'])\n",
        "    print(\"\\n Kolom 'Dept' berhasil ditransformasi (Label Encoding).\")\n",
        "\n",
        "# B. Normalisasi/Standarisasi kolom numerik (contoh: 'Usia' dan 'Gaji')\n",
        "scaler = StandardScaler()\n",
        "df_transformed[['Usia', 'Gaji']] = scaler.fit_transform(df_transformed[['Usia', 'Gaji']])\n",
        "print(\"\\n=== Data Setelah Transformasi ===\")\n",
        "print(df_transformed.head())"
      ],
      "metadata": {
        "colab": {
          "base_uri": "https://localhost:8080/"
        },
        "id": "_i124O_3f2zf",
        "outputId": "341528f9-110e-4b8e-b3ed-b797f8e592cc"
      },
      "execution_count": 22,
      "outputs": [
        {
          "output_type": "stream",
          "name": "stdout",
          "text": [
            "\n",
            " Kolom 'Dept' berhasil ditransformasi (Label Encoding).\n",
            "\n",
            "=== Data Setelah Transformasi ===\n",
            "   ID      Usia      Gaji  Pengalaman  Dept\n",
            "0   5 -0.617166  1.565234        14.0     3\n",
            "1   7  1.546923  0.746268        12.0     1\n",
            "2   8  0.585106  0.616274         7.0     1\n",
            "3   9 -1.098075  1.300745         4.0     2\n",
            "4  10  1.186242 -1.317144         9.0     1\n"
          ]
        }
      ]
    },
    {
      "cell_type": "code",
      "source": [
        "import seaborn  as sns\n",
        "import matplotlib.pyplot as plt\n",
        "\n",
        "# Hitung Korelasi antar kolom numerik\n",
        "corr = df_transformed.corr()\n",
        "\n",
        "print(\"\\n=== Matriks Korelasi ===\")\n",
        "print(corr)\n",
        "\n",
        "#Visualisasi Korelasi\n",
        "plt.figure(figsize=(6,4))\n",
        "sns.heatmap(corr, annot=True, cmap=\"coolwarm\", fmt=\".2f\")\n",
        "plt.title(\"Correlation Matrix\")\n",
        "plt.show()\n",
        "\n",
        "#Buang fitur jika korelasi terlalu tinggi (contoh thresold 0.85)\n",
        "threshold = 0.85\n",
        "upper = corr.where(np.triu(np.ones(corr.shape), k=1).astype(bool))\n",
        "to_drop = [column for column in upper.columns if any(upper[column].abs() > threshold)]\n",
        "\n",
        "print(\"\\n Fitur yang dibuang karena korelasi tinggi: \", to_drop)\n",
        "\n",
        "df_reduced_corr = df_transformed.drop(columns=to_drop)\n",
        "print(\"\\n=== Data Setelah Reduksi Korelasi ===\")\n",
        "print(df_reduced_corr.head())\n",
        "\n"
      ],
      "metadata": {
        "colab": {
          "base_uri": "https://localhost:8080/",
          "height": 703
        },
        "id": "vs_SvGpqmQ8B",
        "outputId": "a1619ea9-bf7a-49b1-ae89-f5b1d3e55e43"
      },
      "execution_count": 24,
      "outputs": [
        {
          "output_type": "stream",
          "name": "stdout",
          "text": [
            "\n",
            "=== Matriks Korelasi ===\n",
            "                  ID      Usia      Gaji  Pengalaman      Dept\n",
            "ID          1.000000 -0.316084 -0.667844   -0.438135  0.150259\n",
            "Usia       -0.316084  1.000000  0.094351    0.133586 -0.425587\n",
            "Gaji       -0.667844  0.094351  1.000000    0.230250  0.170654\n",
            "Pengalaman -0.438135  0.133586  0.230250    1.000000  0.006119\n",
            "Dept        0.150259 -0.425587  0.170654    0.006119  1.000000\n"
          ]
        },
        {
          "output_type": "display_data",
          "data": {
            "text/plain": [
              "<Figure size 600x400 with 2 Axes>"
            ],
            "image/png": "[encoded data removed]"
          },
          "metadata": {}
        },
        {
          "output_type": "stream",
          "name": "stdout",
          "text": [
            "\n",
            " Fitur yang dibuang karena korelasi tinggi:  []\n",
            "\n",
            "=== Data Setelah Reduksi Korelasi ===\n",
            "   ID      Usia      Gaji  Pengalaman  Dept\n",
            "0   5 -0.617166  1.565234        14.0     3\n",
            "1   7  1.546923  0.746268        12.0     1\n",
            "2   8  0.585106  0.616274         7.0     1\n",
            "3   9 -1.098075  1.300745         4.0     2\n",
            "4  10  1.186242 -1.317144         9.0     1\n"
          ]
        }
      ]
    },
    {
      "cell_type": "code",
      "source": [
        "import pandas as pd\n",
        "\n",
        "# Contoh data asli sebelum scalling (gantilah dengan df1 atau dataframe mentahmu)\n",
        "df_asli = df1.copy()\n",
        "\n",
        "# === Diskritasi Usia ===\n",
        "df_asli['Usia_Group'] = pd.cut(\n",
        "    df_asli['Usia'],\n",
        "    bins=[0, 25, 40, 100], # Interval Usia\n",
        "    labels=['Muda', 'Dewasa', 'Tua']\n",
        ")\n",
        "\n",
        "# === Diskripsi Gaji ===\n",
        "df_asli['Gaji_Group'] = pd.cut(\n",
        "    df_asli['Gaji'],\n",
        "    bins=[0, 5000, 10000, 20000], # Interval Gaji (contoh: ribuan)\n",
        "    labels=['Rendah', 'Menengah', 'Tinggi']\n",
        ")\n",
        "\n",
        "# === Diskritisasi Pengalaman ===\n",
        "df_asli['Pengalaman_Group'] = pd.cut(\n",
        "    df_asli['Pengalaman'],\n",
        "    bins=[0, 5, 10, 30], # Interval Pengalaman Kerja (contoh: tahun)\n",
        "    labels=['Pemula', 'Menengah', 'Senior']\n",
        ")\n",
        "\n",
        "print(\"\\n === Data Setelah Diskritasi ===\")\n",
        "print(df_asli[['Usia', 'Usia_Group', 'Gaji', 'Gaji_Group', 'Pengalaman', 'Pengalaman_Group']])"
      ],
      "metadata": {
        "colab": {
          "base_uri": "https://localhost:8080/"
        },
        "id": "9_JAjFBAwHcL",
        "outputId": "8e1d7a4c-4884-4b69-f61a-6889ce2c7b8f"
      },
      "execution_count": 25,
      "outputs": [
        {
          "output_type": "stream",
          "name": "stdout",
          "text": [
            "\n",
            " === Data Setelah Diskritasi ===\n",
            "    Usia Usia_Group    Gaji Gaji_Group  Pengalaman Pengalaman_Group\n",
            "0   26.0     Dewasa  4685.0     Rendah        12.0           Senior\n",
            "1   39.0     Dewasa  3769.0     Rendah        12.0           Senior\n",
            "2   48.0        Tua  5391.0   Menengah        14.0           Senior\n",
            "3   34.0     Dewasa  8611.0   Menengah        14.0           Senior\n",
            "4   30.0     Dewasa  9949.0   Menengah        14.0           Senior\n",
            "5    NaN        NaN     NaN        NaN         NaN              NaN\n",
            "6   48.0        Tua  8311.0   Menengah        12.0           Senior\n",
            "7   40.0     Dewasa  8051.0   Menengah         7.0         Menengah\n",
            "8   26.0     Dewasa  9420.0   Menengah         4.0           Pemula\n",
            "9   45.0        Tua  4184.0     Rendah         9.0         Menengah\n",
            "10  38.0     Dewasa  7555.0   Menengah         3.0           Pemula\n",
            "11  42.0        Tua  6385.0   Menengah         5.0           Pemula\n",
            "12  30.0     Dewasa  7117.0   Menengah         3.0           Pemula\n",
            "13  30.0     Dewasa  9396.0   Menengah         7.0         Menengah\n",
            "14  43.0        Tua  7843.0   Menengah         5.0           Pemula\n",
            "15  40.0     Dewasa  5904.0   Menengah         9.0         Menengah\n",
            "16  23.0       Muda  3474.0     Rendah         7.0         Menengah\n",
            "17  27.0     Dewasa  4082.0     Rendah         2.0           Pemula\n",
            "18  43.0        Tua  5558.0   Menengah         4.0           Pemula\n",
            "19  22.0       Muda  5047.0   Menengah         9.0         Menengah\n",
            "20  48.0        Tua  5391.0   Menengah        14.0           Senior\n",
            "21   NaN        NaN     NaN        NaN         NaN              NaN\n",
            "22  48.0        Tua  5391.0   Menengah        14.0           Senior\n",
            "23   NaN        NaN     NaN        NaN         NaN              NaN\n"
          ]
        }
      ]
    }
  ]
}